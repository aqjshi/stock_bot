{
 "cells": [
  {
   "cell_type": "code",
   "execution_count": 1,
   "id": "e85ed483-d2ef-4920-a1b5-51dd0eddf4a6",
   "metadata": {},
   "outputs": [
    {
     "name": "stdout",
     "output_type": "stream",
     "text": [
      "0pEnqPfhRk7bYu5LSa7ppMuKfqr21kck\n"
     ]
    }
   ],
   "source": [
    "import setup\n",
    "setup.init_django()"
   ]
  },
  {
   "cell_type": "code",
   "execution_count": 2,
   "id": "9b9ca555-32fb-4f46-a606-48e409b235f7",
   "metadata": {},
   "outputs": [],
   "source": [
    "from market.models import StockQuote"
   ]
  },
  {
   "cell_type": "code",
   "execution_count": 3,
   "id": "31ffb14d-43f3-4bbb-813b-50526ff9bfd6",
   "metadata": {},
   "outputs": [],
   "source": [
    "from django.db.models import (\n",
    "    Avg, \n",
    "    F,\n",
    "    RowRange,\n",
    "    Window,\n",
    "    Max,\n",
    "    Min,\n",
    "    ExpressionWrapper,\n",
    "    DecimalField,\n",
    "    Case,\n",
    "    When,\n",
    "    Value\n",
    ")\n",
    "from django.db.models.functions import TruncDate, FirstValue, Lag, Coalesce\n",
    "from django.utils import timezone\n",
    "from datetime import timedelta\n",
    "from decimal import Decimal"
   ]
  },
  {
   "cell_type": "code",
   "execution_count": 6,
   "id": "6ca3de8b-c2a8-44de-a6c7-6d5c1c6813a1",
   "metadata": {},
   "outputs": [],
   "source": [
    "import pandas as pd\n",
    "from datetime import timedelta\n",
    "from decimal import Decimal\n",
    "from django.utils import timezone\n",
    "\n",
    "def time_bucket_in_python(data, bucket_size='1D'):\n",
    "    df = pd.DataFrame(data)  # Convert your query results to a DataFrame\n",
    "    df['time'] = pd.to_datetime(df['time'])\n",
    "    df.set_index('time', inplace=True)\n",
    "    return df.resample(bucket_size).agg({\n",
    "        'close_price': 'last',  # Use the last close price in each bucket\n",
    "    }).reset_index()\n",
    "\n",
    "def calculate_rsi(ticker, period=14):\n",
    "    \"\"\"\n",
    "    Calculate Relative Strength Index (RSI) using Django ORM and pandas.\n",
    "\n",
    "    Args:\n",
    "        ticker (str): Stock ticker symbol\n",
    "        period (int): RSI period (default: 14)\n",
    "\n",
    "    Returns:\n",
    "        dict: RSI value and component calculations\n",
    "    \"\"\"\n",
    "    end_date = timezone.now()\n",
    "    start_date = end_date - timedelta(days=period * 4)\n",
    "\n",
    "    # Fetch price data from the database\n",
    "    raw_data = list(\n",
    "        StockQuote.objects.filter(\n",
    "            company__ticker=ticker, time__range=(start_date, end_date)\n",
    "        ).values('time', 'close_price')\n",
    "    )\n",
    "\n",
    "    # Perform time bucketing using the helper function\n",
    "    daily_data = time_bucket_in_python(raw_data, bucket_size='1D')\n",
    "\n",
    "    # Ensure no None values and cast to a float for calculations\n",
    "    daily_data['close_price'] = daily_data['close_price'].fillna(0).astype(float)\n",
    "\n",
    "    # Calculate price changes and gains/losses\n",
    "    daily_data['price_change'] = daily_data['close_price'].diff()\n",
    "    daily_data['gain'] = daily_data['price_change'].apply(lambda x: x if x > 0 else 0)\n",
    "    daily_data['loss'] = daily_data['price_change'].apply(lambda x: -x if x < 0 else 0)\n",
    "\n",
    "    # Calculate initial averages for gains and losses\n",
    "    initial_data = daily_data.iloc[:period]\n",
    "    avg_gain = Decimal(initial_data['gain'].mean())\n",
    "    avg_loss = Decimal(initial_data['loss'].mean())\n",
    "\n",
    "    # Calculate EMA-based RSI\n",
    "    alpha = Decimal(1 / period)  # Smoothing factor\n",
    "\n",
    "    for index, row in daily_data.iloc[period:].iterrows():\n",
    "        avg_gain = (avg_gain * (1 - alpha) + Decimal(row['gain']) * alpha)\n",
    "        avg_loss = (avg_loss * (1 - alpha) + Decimal(row['loss']) * alpha)\n",
    "\n",
    "    # Prevent division by zero\n",
    "    if avg_loss == 0:\n",
    "        rsi = 100\n",
    "    else:\n",
    "        rs = avg_gain / avg_loss\n",
    "        rsi = 100 - (100 / (1 + rs))\n",
    "\n",
    "    return {\n",
    "        'rsi': round(float(rsi), 4),\n",
    "        'avg_gain': round(float(avg_gain), 4),\n",
    "        'avg_loss': round(float(avg_loss), 4),\n",
    "        'period': period\n",
    "    }\n"
   ]
  },
  {
   "cell_type": "code",
   "execution_count": 7,
   "id": "8bc44c5c-99f4-4b12-ac6e-1fd4c3805604",
   "metadata": {},
   "outputs": [],
   "source": [
    "rsi_data = calculate_rsi('NVDA')"
   ]
  },
  {
   "cell_type": "code",
   "execution_count": 8,
   "id": "df5a66b1-34bc-414d-a146-90cb63b96e62",
   "metadata": {},
   "outputs": [
    {
     "data": {
      "text/plain": [
       "{'rsi': 52.3131, 'avg_gain': 26.9789, 'avg_loss': 24.5931, 'period': 14}"
      ]
     },
     "execution_count": 8,
     "metadata": {},
     "output_type": "execute_result"
    }
   ],
   "source": [
    "rsi_data"
   ]
  },
  {
   "cell_type": "code",
   "execution_count": null,
   "id": "92ad1df1-ae1f-411f-aa4b-48f854015315",
   "metadata": {},
   "outputs": [],
   "source": []
  }
 ],
 "metadata": {
  "kernelspec": {
   "display_name": "base",
   "language": "python",
   "name": "python3"
  },
  "language_info": {
   "codemirror_mode": {
    "name": "ipython",
    "version": 3
   },
   "file_extension": ".py",
   "mimetype": "text/x-python",
   "name": "python",
   "nbconvert_exporter": "python",
   "pygments_lexer": "ipython3",
   "version": "3.12.2"
  }
 },
 "nbformat": 4,
 "nbformat_minor": 5
}
