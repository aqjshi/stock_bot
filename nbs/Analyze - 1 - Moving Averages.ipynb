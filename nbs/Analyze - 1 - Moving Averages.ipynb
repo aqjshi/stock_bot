{
 "cells": [
  {
   "cell_type": "code",
   "execution_count": 1,
   "id": "e85ed483-d2ef-4920-a1b5-51dd0eddf4a6",
   "metadata": {},
   "outputs": [
    {
     "name": "stdout",
     "output_type": "stream",
     "text": [
      "0pEnqPfhRk7bYu5LSa7ppMuKfqr21kck\n"
     ]
    }
   ],
   "source": [
    "import setup\n",
    "setup.init_django()"
   ]
  },
  {
   "cell_type": "code",
   "execution_count": 2,
   "id": "9b9ca555-32fb-4f46-a606-48e409b235f7",
   "metadata": {},
   "outputs": [],
   "source": [
    "from market.models import StockQuote"
   ]
  },
  {
   "cell_type": "code",
   "execution_count": 3,
   "id": "31ffb14d-43f3-4bbb-813b-50526ff9bfd6",
   "metadata": {},
   "outputs": [],
   "source": [
    "from django.db.models import Avg, F, RowRange, Window\n",
    "from django.utils import timezone\n",
    "from datetime import timedelta\n",
    "from decimal import Decimal"
   ]
  },
  {
   "cell_type": "code",
   "execution_count": 4,
   "id": "cee627e2-6fe5-4b27-9027-8e07ffbe24b8",
   "metadata": {},
   "outputs": [
    {
     "data": {
      "text/plain": [
       "15092"
      ]
     },
     "execution_count": 4,
     "metadata": {},
     "output_type": "execute_result"
    }
   ],
   "source": [
    "days_ago = 30\n",
    "now = timezone.now()\n",
    "start_date = now - timedelta(days=30)\n",
    "end_date = now\n",
    "\n",
    "qs = StockQuote.objects.filter(time__range=(start_date, end_date))\n",
    "qs.count()"
   ]
  },
  {
   "cell_type": "code",
   "execution_count": 5,
   "id": "0415473f-c008-4f14-a37e-ca6f264313d6",
   "metadata": {},
   "outputs": [],
   "source": [
    "total = 0\n",
    "for obj in qs:\n",
    "    total += obj.close_price"
   ]
  },
  {
   "cell_type": "code",
   "execution_count": 6,
   "id": "41e0ac06-3e07-42ac-b781-f154ce9d3ca7",
   "metadata": {},
   "outputs": [
    {
     "data": {
      "text/plain": [
       "Decimal('134.9934893586005830903790087')"
      ]
     },
     "execution_count": 6,
     "metadata": {},
     "output_type": "execute_result"
    }
   ],
   "source": [
    "total / qs.count()"
   ]
  },
  {
   "cell_type": "markdown",
   "id": "f7c707ac",
   "metadata": {},
   "source": []
  },
  {
   "cell_type": "code",
   "execution_count": 15,
   "id": "50cbcb1c-a9c6-45c3-b8f2-177f19d7e995",
   "metadata": {},
   "outputs": [
    {
     "data": {
      "text/plain": [
       "<QuerySet [{'company': 12, 'avg_price': Decimal('138.556142439148')}]>"
      ]
     },
     "execution_count": 15,
     "metadata": {},
     "output_type": "execute_result"
    }
   ],
   "source": [
    "qs.values('company').annotate(avg_price=Avg('close_price'))"
   ]
  },
  {
   "cell_type": "code",
   "execution_count": 16,
   "id": "a8f1344a-5eb7-4eab-b785-2814f24acf48",
   "metadata": {},
   "outputs": [],
   "source": [
    "count = 5\n",
    "ticker = \"NVDA\"\n",
    "rolling_qs = list(qs.filter(company__ticker=ticker).order_by('-time')[:count])\n",
    "rolling_qs.reverse()"
   ]
  },
  {
   "cell_type": "code",
   "execution_count": 17,
   "id": "2daeab04-616c-4923-b866-3d2900a17997",
   "metadata": {},
   "outputs": [
    {
     "data": {
      "text/plain": [
       "[<StockQuote: StockQuote object (705734)>,\n",
       " <StockQuote: StockQuote object (705735)>,\n",
       " <StockQuote: StockQuote object (705736)>,\n",
       " <StockQuote: StockQuote object (705737)>,\n",
       " <StockQuote: StockQuote object (705738)>]"
      ]
     },
     "execution_count": 17,
     "metadata": {},
     "output_type": "execute_result"
    }
   ],
   "source": [
    "rolling_qs"
   ]
  },
  {
   "cell_type": "code",
   "execution_count": 18,
   "id": "25e4ee18-7b1f-4a7c-b8e5-6e1c7586ce62",
   "metadata": {},
   "outputs": [
    {
     "name": "stdout",
     "output_type": "stream",
     "text": [
      "1 705734 141.1900 141.1900\n",
      "2 705735 141.2300 141.2100\n",
      "3 705736 141.7000 141.3733333333333333333333333\n",
      "4 705737 142.8896 141.7524\n",
      "5 705738 142.8800 141.97792\n"
     ]
    }
   ],
   "source": [
    "total = 0\n",
    "for i, obj in enumerate(rolling_qs):\n",
    "    total += obj.close_price\n",
    "    avg = total / (i + 1)\n",
    "    print(i + 1, obj.id, obj.close_price, avg)"
   ]
  },
  {
   "cell_type": "code",
   "execution_count": 19,
   "id": "5a64b03f-7724-4253-a412-95a98ac1ff35",
   "metadata": {},
   "outputs": [],
   "source": [
    "qs = StockQuote.objects.filter(company__ticker=ticker, time__range=(start_date, end_date))"
   ]
  },
  {
   "cell_type": "code",
   "execution_count": 20,
   "id": "1586782f-2759-49eb-ae74-6611c1626813",
   "metadata": {},
   "outputs": [],
   "source": [
    "frame_start = -(count - 1)\n",
    "ma_val = qs.annotate(\n",
    "        ma=Window(\n",
    "            expression=Avg('close_price'),\n",
    "            order_by=F('time').asc(),\n",
    "            partition_by=[],\n",
    "            frame=RowRange(start=frame_start, end=0),\n",
    "        )\n",
    ").order_by('-time')"
   ]
  },
  {
   "cell_type": "code",
   "execution_count": 23,
   "id": "76e23c23-e0ec-4d1a-b5e4-0fe89d09643a",
   "metadata": {},
   "outputs": [
    {
     "name": "stdout",
     "output_type": "stream",
     "text": [
      "705738 142.8800 141.977920000000 2025-01-21 22:30:00+00:00\n",
      "705737 142.8896 141.647920000000 2025-01-21 22:25:00+00:00\n",
      "705736 141.7000 141.342000000000 2025-01-21 22:20:00+00:00\n",
      "705735 141.2300 141.263760000000 2025-01-21 22:15:00+00:00\n",
      "705734 141.1900 141.277760000000 2025-01-21 22:10:00+00:00\n",
      "705733 141.2300 141.299760000000 2025-01-21 22:05:00+00:00\n",
      "705732 141.3600 141.313760000000 2025-01-21 22:00:00+00:00\n",
      "705731 141.3088 141.301760000000 2025-01-21 21:55:00+00:00\n",
      "705730 141.3000 141.276000000000 2025-01-21 21:50:00+00:00\n",
      "705729 141.3000 141.226120000000 2025-01-21 21:45:00+00:00\n",
      "705728 141.3000 141.196120000000 2025-01-21 21:40:00+00:00\n",
      "705727 141.3000 141.140120000000 2025-01-21 21:35:00+00:00\n",
      "705726 141.1800 141.082120000000 2025-01-21 21:30:00+00:00\n",
      "705725 141.0506 141.018160000000 2025-01-21 21:25:00+00:00\n",
      "705724 141.1500 140.998040000000 2025-01-21 21:20:00+00:00\n",
      "705723 141.0200 140.934040000000 2025-01-21 21:15:00+00:00\n",
      "705722 141.0100 140.956040000000 2025-01-21 21:10:00+00:00\n",
      "705721 140.8602 140.984040000000 2025-01-21 21:05:00+00:00\n",
      "705720 140.9500 141.056000000000 2025-01-21 21:00:00+00:00\n",
      "705719 140.8300 141.193620000000 2025-01-21 20:55:00+00:00\n"
     ]
    }
   ],
   "source": [
    "for obj in ma_val[:20]:\n",
    "    print(obj.id, obj.close_price, obj.ma, obj.time)"
   ]
  },
  {
   "cell_type": "code",
   "execution_count": 22,
   "id": "2cce51aa-361e-47d2-9fbf-45dad2617707",
   "metadata": {},
   "outputs": [
    {
     "data": {
      "text/plain": [
       "(705738,\n",
       " Decimal('142.8800'),\n",
       " Decimal('141.977920000000'),\n",
       " Decimal('141.351960000000'))"
      ]
     },
     "execution_count": 22,
     "metadata": {},
     "output_type": "execute_result"
    }
   ],
   "source": [
    "frame_start = -(count - 1)\n",
    "ma_vals = qs.annotate(\n",
    "        ma_5=Window(\n",
    "            expression=Avg('close_price'),\n",
    "            order_by=F('time').asc(),\n",
    "            partition_by=[],\n",
    "            frame=RowRange(start=-4, end=0),\n",
    "        ),\n",
    "        ma_20=Window(\n",
    "            expression=Avg('close_price'),\n",
    "            order_by=F('time').asc(),\n",
    "            partition_by=[],\n",
    "            frame=RowRange(start=-19, end=0),\n",
    "        )\n",
    ").order_by('-time').first()\n",
    "\n",
    "ma_vals.id, ma_vals.close_price, ma_vals.ma_5, ma_vals.ma_20"
   ]
  },
  {
   "cell_type": "markdown",
   "id": "b05c3677",
   "metadata": {},
   "source": []
  },
  {
   "cell_type": "code",
   "execution_count": null,
   "id": "9ee11312-df57-4bd1-bee6-1d4e2a94d00d",
   "metadata": {},
   "outputs": [],
   "source": []
  }
 ],
 "metadata": {
  "kernelspec": {
   "display_name": "base",
   "language": "python",
   "name": "python3"
  },
  "language_info": {
   "codemirror_mode": {
    "name": "ipython",
    "version": 3
   },
   "file_extension": ".py",
   "mimetype": "text/x-python",
   "name": "python",
   "nbconvert_exporter": "python",
   "pygments_lexer": "ipython3",
   "version": "3.12.2"
  }
 },
 "nbformat": 4,
 "nbformat_minor": 5
}
