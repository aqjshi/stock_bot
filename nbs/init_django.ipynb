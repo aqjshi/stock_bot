{
 "cells": [
  {
   "cell_type": "code",
   "execution_count": 50,
   "metadata": {},
   "outputs": [],
   "source": [
    "import setup\n",
    "setup.init_django()"
   ]
  },
  {
   "cell_type": "code",
   "execution_count": 51,
   "metadata": {},
   "outputs": [
    {
     "data": {
      "text/plain": [
       "PosixPath('/Users/anthonys/Desktop/Stock-Trading-Bot-main/src')"
      ]
     },
     "execution_count": 51,
     "metadata": {},
     "output_type": "execute_result"
    }
   ],
   "source": [
    "from django.conf import settings\n",
    "settings.BASE_DIR"
   ]
  },
  {
   "cell_type": "code",
   "execution_count": 52,
   "metadata": {},
   "outputs": [],
   "source": [
    "from django.contrib.auth import get_user_model\n",
    "User = get_user_model()"
   ]
  },
  {
   "cell_type": "code",
   "execution_count": null,
   "metadata": {},
   "outputs": [],
   "source": []
  },
  {
   "cell_type": "code",
   "execution_count": 53,
   "metadata": {},
   "outputs": [
    {
     "data": {
      "text/plain": [
       "<QuerySet [<User: anthonys>]>"
      ]
     },
     "execution_count": 53,
     "metadata": {},
     "output_type": "execute_result"
    }
   ],
   "source": [
    "User.objects.all()"
   ]
  },
  {
   "cell_type": "code",
   "execution_count": 54,
   "metadata": {},
   "outputs": [],
   "source": [
    "import helpers.clients as helper_clients\n",
    "# alpha_vantage_dataset = helper_clients.AlphaVantageAPIClient()\n"
   ]
  },
  {
   "cell_type": "code",
   "execution_count": 55,
   "metadata": {},
   "outputs": [],
   "source": [
    "polygon_dataset = helper_clients.PolygonAPIClient()"
   ]
  },
  {
   "cell_type": "code",
   "execution_count": 56,
   "metadata": {},
   "outputs": [],
   "source": [
    "company_name =  \"Airlines\"\n",
    "company_ticker = \"AVGO\"\n",
    "multiplier = 1\n",
    "from_date = \"2023-01-09\"\n",
    "to_date = \"2023-01-09\"\n"
   ]
  },
  {
   "cell_type": "code",
   "execution_count": 57,
   "metadata": {},
   "outputs": [
    {
     "ename": "Exception",
     "evalue": "Ticker AACT has no results",
     "output_type": "error",
     "traceback": [
      "\u001b[0;31m---------------------------------------------------------------------------\u001b[0m",
      "\u001b[0;31mException\u001b[0m                                 Traceback (most recent call last)",
      "Cell \u001b[0;32mIn[57], line 7\u001b[0m\n\u001b[1;32m      1\u001b[0m client \u001b[38;5;241m=\u001b[39m helper_clients\u001b[38;5;241m.\u001b[39mPolygonAPIClient(\n\u001b[1;32m      2\u001b[0m     ticker\u001b[38;5;241m=\u001b[39mcompany_ticker,\n\u001b[1;32m      3\u001b[0m     multiplier\u001b[38;5;241m=\u001b[39mmultiplier,\n\u001b[1;32m      4\u001b[0m     from_date\u001b[38;5;241m=\u001b[39mfrom_date,\n\u001b[1;32m      5\u001b[0m     to_date\u001b[38;5;241m=\u001b[39mto_date\n\u001b[1;32m      6\u001b[0m )\n\u001b[0;32m----> 7\u001b[0m dataset \u001b[38;5;241m=\u001b[39m client\u001b[38;5;241m.\u001b[39mget_stock_data()\n",
      "File \u001b[0;32m~/Desktop/Stock-Trading-Bot-main/src/helpers/clients/_polygon.py:77\u001b[0m, in \u001b[0;36mPolygonAPIClient.get_stock_data\u001b[0;34m(self)\u001b[0m\n\u001b[1;32m     75\u001b[0m results \u001b[38;5;241m=\u001b[39m data\u001b[38;5;241m.\u001b[39mget(\u001b[38;5;124m\"\u001b[39m\u001b[38;5;124mresults\u001b[39m\u001b[38;5;124m\"\u001b[39m) \u001b[38;5;129;01mor\u001b[39;00m \u001b[38;5;28;01mNone\u001b[39;00m\n\u001b[1;32m     76\u001b[0m \u001b[38;5;28;01mif\u001b[39;00m results \u001b[38;5;129;01mis\u001b[39;00m \u001b[38;5;28;01mNone\u001b[39;00m:\n\u001b[0;32m---> 77\u001b[0m     \u001b[38;5;28;01mraise\u001b[39;00m \u001b[38;5;167;01mException\u001b[39;00m(\u001b[38;5;124mf\u001b[39m\u001b[38;5;124m\"\u001b[39m\u001b[38;5;124mTicker \u001b[39m\u001b[38;5;132;01m{\u001b[39;00m\u001b[38;5;28mself\u001b[39m\u001b[38;5;241m.\u001b[39mticker\u001b[38;5;132;01m}\u001b[39;00m\u001b[38;5;124m has no results\u001b[39m\u001b[38;5;124m\"\u001b[39m)\n\u001b[1;32m     78\u001b[0m dataset \u001b[38;5;241m=\u001b[39m []\n\u001b[1;32m     79\u001b[0m \u001b[38;5;28;01mfor\u001b[39;00m result \u001b[38;5;129;01min\u001b[39;00m results:\n",
      "\u001b[0;31mException\u001b[0m: Ticker AACT has no results"
     ]
    }
   ],
   "source": [
    "client = helper_clients.PolygonAPIClient(\n",
    "    ticker=company_ticker,\n",
    "    multiplier=multiplier,\n",
    "    from_date=from_date,\n",
    "    to_date=to_date\n",
    ")\n",
    "dataset = client.get_stock_data()"
   ]
  },
  {
   "cell_type": "code",
   "execution_count": 42,
   "metadata": {},
   "outputs": [
    {
     "data": {
      "text/plain": [
       "{'open_price': 14.16,\n",
       " 'close_price': 14.16,\n",
       " 'high_price': 14.16,\n",
       " 'low_price': 14.16,\n",
       " 'number_of_trades': 7,\n",
       " 'volume': 185,\n",
       " 'volume_weighted_average': 14.1425,\n",
       " 'raw_timestamp': 1673254800000,\n",
       " 'time': datetime.datetime(2023, 1, 9, 9, 0, tzinfo=<UTC>)}"
      ]
     },
     "execution_count": 42,
     "metadata": {},
     "output_type": "execute_result"
    }
   ],
   "source": [
    "new_stock_data = dataset[0]\n",
    "new_stock_data"
   ]
  },
  {
   "cell_type": "code",
   "execution_count": 43,
   "metadata": {},
   "outputs": [],
   "source": [
    "\n",
    "from market.models import Company, StockQuote\n",
    "\n",
    "# company_name =  \"AMD\"\n",
    "# company_ticker = \"AMD\"\n",
    "# multiplier = 1\n",
    "# from_date = \"2023-01-11\"\n",
    "# to_date = \"2023-01-11\"\n",
    "\n",
    "# client = helper_clients.PolygonAPIClient(\n",
    "#     ticker=company_ticker,\n",
    "#     multiplier=multiplier,\n",
    "#     from_date=from_date,\n",
    "#     to_date=to_date\n",
    "# )\n",
    "# dataset = client.get_stock_data()\n",
    "# new_stock_data = dataset[0]\n",
    "# new_stock_data\n"
   ]
  },
  {
   "cell_type": "code",
   "execution_count": 44,
   "metadata": {},
   "outputs": [
    {
     "name": "stdout",
     "output_type": "stream",
     "text": [
      "Error triggering task: [Errno 61] Connection refused\n"
     ]
    }
   ],
   "source": [
    "company_obj, created = Company.objects.get_or_create(name=company_name, ticker=company_ticker)\n"
   ]
  },
  {
   "cell_type": "code",
   "execution_count": 45,
   "metadata": {},
   "outputs": [
    {
     "data": {
      "text/plain": [
       "<Company: Company object (9)>"
      ]
     },
     "execution_count": 45,
     "metadata": {},
     "output_type": "execute_result"
    }
   ],
   "source": [
    "company_obj"
   ]
  },
  {
   "cell_type": "code",
   "execution_count": 46,
   "metadata": {},
   "outputs": [],
   "source": [
    "# first call > second call\n",
    "# get_or_create > get_or_create  company \"KO\"  Company matching query does not exist. > Company matching query does not exist. NO change in datasctructure\n",
    "# get_or_create > create company \"AAPL\"  AttributeError: 'ChannelPromise' object has no attribute '__value__' > duplicate key value violates unique constraint \"market_company_ticker_key\" Update reflected in data struture\n",
    "# create > get_or_create  company \"MSFT\" 'ChannelPromise' object has no attribute '__value__' > success updated in data scructure\n",
    "# create > create  company \"NLFX\" 'ChannelPromise' object has no attribute '__value__', duplicate key value violates unique constraint \"market_company_ticker_key\"  updated data structure\n",
    "\n",
    "\n",
    "# This works for existing tickers already in the system, but for new tickers AMD, it needs 2 passes of this function to work the first one yielding a error \n",
    "# from django.db import transaction, IntegrityError\n",
    "# try:\n",
    "#     company_obj, created = Company.objects.create(\n",
    "#         name=company_name,\n",
    "#         ticker=company_ticker\n",
    "#     )\n",
    "# except IntegrityError:\n",
    "#     company_obj = Company.objects.get(name=company_name, ticker=company_ticker)\n",
    "\n"
   ]
  },
  {
   "cell_type": "code",
   "execution_count": 47,
   "metadata": {},
   "outputs": [
    {
     "data": {
      "text/plain": [
       "<Company: Company object (9)>"
      ]
     },
     "execution_count": 47,
     "metadata": {},
     "output_type": "execute_result"
    }
   ],
   "source": [
    "company_obj"
   ]
  },
  {
   "cell_type": "code",
   "execution_count": 49,
   "metadata": {},
   "outputs": [
    {
     "ename": "IntegrityError",
     "evalue": "duplicate key value violates unique constraint \"1_3_unique_company_time\"\nDETAIL:  Key (company_id, \"time\")=(9, 2023-01-09 09:00:00+00) already exists.",
     "output_type": "error",
     "traceback": [
      "\u001b[0;31m---------------------------------------------------------------------------\u001b[0m",
      "\u001b[0;31mUniqueViolation\u001b[0m                           Traceback (most recent call last)",
      "File \u001b[0;32m/opt/anaconda3/lib/python3.12/site-packages/django/db/backends/utils.py:105\u001b[0m, in \u001b[0;36mCursorWrapper._execute\u001b[0;34m(self, sql, params, *ignored_wrapper_args)\u001b[0m\n\u001b[1;32m    104\u001b[0m \u001b[38;5;28;01melse\u001b[39;00m:\n\u001b[0;32m--> 105\u001b[0m     \u001b[38;5;28;01mreturn\u001b[39;00m \u001b[38;5;28mself\u001b[39m\u001b[38;5;241m.\u001b[39mcursor\u001b[38;5;241m.\u001b[39mexecute(sql, params)\n",
      "File \u001b[0;32m/opt/anaconda3/lib/python3.12/site-packages/psycopg/cursor.py:97\u001b[0m, in \u001b[0;36mCursor.execute\u001b[0;34m(self, query, params, prepare, binary)\u001b[0m\n\u001b[1;32m     96\u001b[0m \u001b[38;5;28;01mexcept\u001b[39;00m e\u001b[38;5;241m.\u001b[39m_NO_TRACEBACK \u001b[38;5;28;01mas\u001b[39;00m ex:\n\u001b[0;32m---> 97\u001b[0m     \u001b[38;5;28;01mraise\u001b[39;00m ex\u001b[38;5;241m.\u001b[39mwith_traceback(\u001b[38;5;28;01mNone\u001b[39;00m)\n\u001b[1;32m     98\u001b[0m \u001b[38;5;28;01mreturn\u001b[39;00m \u001b[38;5;28mself\u001b[39m\n",
      "\u001b[0;31mUniqueViolation\u001b[0m: duplicate key value violates unique constraint \"1_3_unique_company_time\"\nDETAIL:  Key (company_id, \"time\")=(9, 2023-01-09 09:00:00+00) already exists.",
      "\nThe above exception was the direct cause of the following exception:\n",
      "\u001b[0;31mIntegrityError\u001b[0m                            Traceback (most recent call last)",
      "Cell \u001b[0;32mIn[49], line 1\u001b[0m\n\u001b[0;32m----> 1\u001b[0m StockQuote\u001b[38;5;241m.\u001b[39mobjects\u001b[38;5;241m.\u001b[39mcreate(company\u001b[38;5;241m=\u001b[39mcompany_obj, \u001b[38;5;241m*\u001b[39m\u001b[38;5;241m*\u001b[39mnew_stock_data)\n",
      "File \u001b[0;32m/opt/anaconda3/lib/python3.12/site-packages/django/db/models/manager.py:87\u001b[0m, in \u001b[0;36mBaseManager._get_queryset_methods.<locals>.create_method.<locals>.manager_method\u001b[0;34m(self, *args, **kwargs)\u001b[0m\n\u001b[1;32m     85\u001b[0m \u001b[38;5;129m@wraps\u001b[39m(method)\n\u001b[1;32m     86\u001b[0m \u001b[38;5;28;01mdef\u001b[39;00m \u001b[38;5;21mmanager_method\u001b[39m(\u001b[38;5;28mself\u001b[39m, \u001b[38;5;241m*\u001b[39margs, \u001b[38;5;241m*\u001b[39m\u001b[38;5;241m*\u001b[39mkwargs):\n\u001b[0;32m---> 87\u001b[0m     \u001b[38;5;28;01mreturn\u001b[39;00m \u001b[38;5;28mgetattr\u001b[39m(\u001b[38;5;28mself\u001b[39m\u001b[38;5;241m.\u001b[39mget_queryset(), name)(\u001b[38;5;241m*\u001b[39margs, \u001b[38;5;241m*\u001b[39m\u001b[38;5;241m*\u001b[39mkwargs)\n",
      "File \u001b[0;32m/opt/anaconda3/lib/python3.12/site-packages/django/db/models/query.py:679\u001b[0m, in \u001b[0;36mQuerySet.create\u001b[0;34m(self, **kwargs)\u001b[0m\n\u001b[1;32m    677\u001b[0m obj \u001b[38;5;241m=\u001b[39m \u001b[38;5;28mself\u001b[39m\u001b[38;5;241m.\u001b[39mmodel(\u001b[38;5;241m*\u001b[39m\u001b[38;5;241m*\u001b[39mkwargs)\n\u001b[1;32m    678\u001b[0m \u001b[38;5;28mself\u001b[39m\u001b[38;5;241m.\u001b[39m_for_write \u001b[38;5;241m=\u001b[39m \u001b[38;5;28;01mTrue\u001b[39;00m\n\u001b[0;32m--> 679\u001b[0m obj\u001b[38;5;241m.\u001b[39msave(force_insert\u001b[38;5;241m=\u001b[39m\u001b[38;5;28;01mTrue\u001b[39;00m, using\u001b[38;5;241m=\u001b[39m\u001b[38;5;28mself\u001b[39m\u001b[38;5;241m.\u001b[39mdb)\n\u001b[1;32m    680\u001b[0m \u001b[38;5;28;01mreturn\u001b[39;00m obj\n",
      "File \u001b[0;32m/opt/anaconda3/lib/python3.12/site-packages/django/db/models/base.py:892\u001b[0m, in \u001b[0;36mModel.save\u001b[0;34m(self, force_insert, force_update, using, update_fields, *args)\u001b[0m\n\u001b[1;32m    889\u001b[0m     \u001b[38;5;28;01mif\u001b[39;00m loaded_fields:\n\u001b[1;32m    890\u001b[0m         update_fields \u001b[38;5;241m=\u001b[39m \u001b[38;5;28mfrozenset\u001b[39m(loaded_fields)\n\u001b[0;32m--> 892\u001b[0m \u001b[38;5;28mself\u001b[39m\u001b[38;5;241m.\u001b[39msave_base(\n\u001b[1;32m    893\u001b[0m     using\u001b[38;5;241m=\u001b[39musing,\n\u001b[1;32m    894\u001b[0m     force_insert\u001b[38;5;241m=\u001b[39mforce_insert,\n\u001b[1;32m    895\u001b[0m     force_update\u001b[38;5;241m=\u001b[39mforce_update,\n\u001b[1;32m    896\u001b[0m     update_fields\u001b[38;5;241m=\u001b[39mupdate_fields,\n\u001b[1;32m    897\u001b[0m )\n",
      "File \u001b[0;32m/opt/anaconda3/lib/python3.12/site-packages/django/db/models/base.py:998\u001b[0m, in \u001b[0;36mModel.save_base\u001b[0;34m(self, raw, force_insert, force_update, using, update_fields)\u001b[0m\n\u001b[1;32m    994\u001b[0m         force_insert \u001b[38;5;241m=\u001b[39m \u001b[38;5;28mself\u001b[39m\u001b[38;5;241m.\u001b[39m_validate_force_insert(force_insert)\n\u001b[1;32m    995\u001b[0m         parent_inserted \u001b[38;5;241m=\u001b[39m \u001b[38;5;28mself\u001b[39m\u001b[38;5;241m.\u001b[39m_save_parents(\n\u001b[1;32m    996\u001b[0m             \u001b[38;5;28mcls\u001b[39m, using, update_fields, force_insert\n\u001b[1;32m    997\u001b[0m         )\n\u001b[0;32m--> 998\u001b[0m     updated \u001b[38;5;241m=\u001b[39m \u001b[38;5;28mself\u001b[39m\u001b[38;5;241m.\u001b[39m_save_table(\n\u001b[1;32m    999\u001b[0m         raw,\n\u001b[1;32m   1000\u001b[0m         \u001b[38;5;28mcls\u001b[39m,\n\u001b[1;32m   1001\u001b[0m         force_insert \u001b[38;5;129;01mor\u001b[39;00m parent_inserted,\n\u001b[1;32m   1002\u001b[0m         force_update,\n\u001b[1;32m   1003\u001b[0m         using,\n\u001b[1;32m   1004\u001b[0m         update_fields,\n\u001b[1;32m   1005\u001b[0m     )\n\u001b[1;32m   1006\u001b[0m \u001b[38;5;66;03m# Store the database on which the object was saved\u001b[39;00m\n\u001b[1;32m   1007\u001b[0m \u001b[38;5;28mself\u001b[39m\u001b[38;5;241m.\u001b[39m_state\u001b[38;5;241m.\u001b[39mdb \u001b[38;5;241m=\u001b[39m using\n",
      "File \u001b[0;32m/opt/anaconda3/lib/python3.12/site-packages/django/db/models/base.py:1161\u001b[0m, in \u001b[0;36mModel._save_table\u001b[0;34m(self, raw, cls, force_insert, force_update, using, update_fields)\u001b[0m\n\u001b[1;32m   1155\u001b[0m fields \u001b[38;5;241m=\u001b[39m [\n\u001b[1;32m   1156\u001b[0m     f\n\u001b[1;32m   1157\u001b[0m     \u001b[38;5;28;01mfor\u001b[39;00m f \u001b[38;5;129;01min\u001b[39;00m meta\u001b[38;5;241m.\u001b[39mlocal_concrete_fields\n\u001b[1;32m   1158\u001b[0m     \u001b[38;5;28;01mif\u001b[39;00m \u001b[38;5;129;01mnot\u001b[39;00m f\u001b[38;5;241m.\u001b[39mgenerated \u001b[38;5;129;01mand\u001b[39;00m (pk_set \u001b[38;5;129;01mor\u001b[39;00m f \u001b[38;5;129;01mis\u001b[39;00m \u001b[38;5;129;01mnot\u001b[39;00m meta\u001b[38;5;241m.\u001b[39mauto_field)\n\u001b[1;32m   1159\u001b[0m ]\n\u001b[1;32m   1160\u001b[0m returning_fields \u001b[38;5;241m=\u001b[39m meta\u001b[38;5;241m.\u001b[39mdb_returning_fields\n\u001b[0;32m-> 1161\u001b[0m results \u001b[38;5;241m=\u001b[39m \u001b[38;5;28mself\u001b[39m\u001b[38;5;241m.\u001b[39m_do_insert(\n\u001b[1;32m   1162\u001b[0m     \u001b[38;5;28mcls\u001b[39m\u001b[38;5;241m.\u001b[39m_base_manager, using, fields, returning_fields, raw\n\u001b[1;32m   1163\u001b[0m )\n\u001b[1;32m   1164\u001b[0m \u001b[38;5;28;01mif\u001b[39;00m results:\n\u001b[1;32m   1165\u001b[0m     \u001b[38;5;28;01mfor\u001b[39;00m value, field \u001b[38;5;129;01min\u001b[39;00m \u001b[38;5;28mzip\u001b[39m(results[\u001b[38;5;241m0\u001b[39m], returning_fields):\n",
      "File \u001b[0;32m/opt/anaconda3/lib/python3.12/site-packages/django/db/models/base.py:1202\u001b[0m, in \u001b[0;36mModel._do_insert\u001b[0;34m(self, manager, using, fields, returning_fields, raw)\u001b[0m\n\u001b[1;32m   1197\u001b[0m \u001b[38;5;28;01mdef\u001b[39;00m \u001b[38;5;21m_do_insert\u001b[39m(\u001b[38;5;28mself\u001b[39m, manager, using, fields, returning_fields, raw):\n\u001b[1;32m   1198\u001b[0m \u001b[38;5;250m    \u001b[39m\u001b[38;5;124;03m\"\"\"\u001b[39;00m\n\u001b[1;32m   1199\u001b[0m \u001b[38;5;124;03m    Do an INSERT. If returning_fields is defined then this method should\u001b[39;00m\n\u001b[1;32m   1200\u001b[0m \u001b[38;5;124;03m    return the newly created data for the model.\u001b[39;00m\n\u001b[1;32m   1201\u001b[0m \u001b[38;5;124;03m    \"\"\"\u001b[39;00m\n\u001b[0;32m-> 1202\u001b[0m     \u001b[38;5;28;01mreturn\u001b[39;00m manager\u001b[38;5;241m.\u001b[39m_insert(\n\u001b[1;32m   1203\u001b[0m         [\u001b[38;5;28mself\u001b[39m],\n\u001b[1;32m   1204\u001b[0m         fields\u001b[38;5;241m=\u001b[39mfields,\n\u001b[1;32m   1205\u001b[0m         returning_fields\u001b[38;5;241m=\u001b[39mreturning_fields,\n\u001b[1;32m   1206\u001b[0m         using\u001b[38;5;241m=\u001b[39musing,\n\u001b[1;32m   1207\u001b[0m         raw\u001b[38;5;241m=\u001b[39mraw,\n\u001b[1;32m   1208\u001b[0m     )\n",
      "File \u001b[0;32m/opt/anaconda3/lib/python3.12/site-packages/django/db/models/manager.py:87\u001b[0m, in \u001b[0;36mBaseManager._get_queryset_methods.<locals>.create_method.<locals>.manager_method\u001b[0;34m(self, *args, **kwargs)\u001b[0m\n\u001b[1;32m     85\u001b[0m \u001b[38;5;129m@wraps\u001b[39m(method)\n\u001b[1;32m     86\u001b[0m \u001b[38;5;28;01mdef\u001b[39;00m \u001b[38;5;21mmanager_method\u001b[39m(\u001b[38;5;28mself\u001b[39m, \u001b[38;5;241m*\u001b[39margs, \u001b[38;5;241m*\u001b[39m\u001b[38;5;241m*\u001b[39mkwargs):\n\u001b[0;32m---> 87\u001b[0m     \u001b[38;5;28;01mreturn\u001b[39;00m \u001b[38;5;28mgetattr\u001b[39m(\u001b[38;5;28mself\u001b[39m\u001b[38;5;241m.\u001b[39mget_queryset(), name)(\u001b[38;5;241m*\u001b[39margs, \u001b[38;5;241m*\u001b[39m\u001b[38;5;241m*\u001b[39mkwargs)\n",
      "File \u001b[0;32m/opt/anaconda3/lib/python3.12/site-packages/django/db/models/query.py:1847\u001b[0m, in \u001b[0;36mQuerySet._insert\u001b[0;34m(self, objs, fields, returning_fields, raw, using, on_conflict, update_fields, unique_fields)\u001b[0m\n\u001b[1;32m   1840\u001b[0m query \u001b[38;5;241m=\u001b[39m sql\u001b[38;5;241m.\u001b[39mInsertQuery(\n\u001b[1;32m   1841\u001b[0m     \u001b[38;5;28mself\u001b[39m\u001b[38;5;241m.\u001b[39mmodel,\n\u001b[1;32m   1842\u001b[0m     on_conflict\u001b[38;5;241m=\u001b[39mon_conflict,\n\u001b[1;32m   1843\u001b[0m     update_fields\u001b[38;5;241m=\u001b[39mupdate_fields,\n\u001b[1;32m   1844\u001b[0m     unique_fields\u001b[38;5;241m=\u001b[39munique_fields,\n\u001b[1;32m   1845\u001b[0m )\n\u001b[1;32m   1846\u001b[0m query\u001b[38;5;241m.\u001b[39minsert_values(fields, objs, raw\u001b[38;5;241m=\u001b[39mraw)\n\u001b[0;32m-> 1847\u001b[0m \u001b[38;5;28;01mreturn\u001b[39;00m query\u001b[38;5;241m.\u001b[39mget_compiler(using\u001b[38;5;241m=\u001b[39musing)\u001b[38;5;241m.\u001b[39mexecute_sql(returning_fields)\n",
      "File \u001b[0;32m/opt/anaconda3/lib/python3.12/site-packages/django/db/models/sql/compiler.py:1836\u001b[0m, in \u001b[0;36mSQLInsertCompiler.execute_sql\u001b[0;34m(self, returning_fields)\u001b[0m\n\u001b[1;32m   1834\u001b[0m \u001b[38;5;28;01mwith\u001b[39;00m \u001b[38;5;28mself\u001b[39m\u001b[38;5;241m.\u001b[39mconnection\u001b[38;5;241m.\u001b[39mcursor() \u001b[38;5;28;01mas\u001b[39;00m cursor:\n\u001b[1;32m   1835\u001b[0m     \u001b[38;5;28;01mfor\u001b[39;00m sql, params \u001b[38;5;129;01min\u001b[39;00m \u001b[38;5;28mself\u001b[39m\u001b[38;5;241m.\u001b[39mas_sql():\n\u001b[0;32m-> 1836\u001b[0m         cursor\u001b[38;5;241m.\u001b[39mexecute(sql, params)\n\u001b[1;32m   1837\u001b[0m     \u001b[38;5;28;01mif\u001b[39;00m \u001b[38;5;129;01mnot\u001b[39;00m \u001b[38;5;28mself\u001b[39m\u001b[38;5;241m.\u001b[39mreturning_fields:\n\u001b[1;32m   1838\u001b[0m         \u001b[38;5;28;01mreturn\u001b[39;00m []\n",
      "File \u001b[0;32m/opt/anaconda3/lib/python3.12/site-packages/django/db/backends/utils.py:122\u001b[0m, in \u001b[0;36mCursorDebugWrapper.execute\u001b[0;34m(self, sql, params)\u001b[0m\n\u001b[1;32m    120\u001b[0m \u001b[38;5;28;01mdef\u001b[39;00m \u001b[38;5;21mexecute\u001b[39m(\u001b[38;5;28mself\u001b[39m, sql, params\u001b[38;5;241m=\u001b[39m\u001b[38;5;28;01mNone\u001b[39;00m):\n\u001b[1;32m    121\u001b[0m     \u001b[38;5;28;01mwith\u001b[39;00m \u001b[38;5;28mself\u001b[39m\u001b[38;5;241m.\u001b[39mdebug_sql(sql, params, use_last_executed_query\u001b[38;5;241m=\u001b[39m\u001b[38;5;28;01mTrue\u001b[39;00m):\n\u001b[0;32m--> 122\u001b[0m         \u001b[38;5;28;01mreturn\u001b[39;00m \u001b[38;5;28msuper\u001b[39m()\u001b[38;5;241m.\u001b[39mexecute(sql, params)\n",
      "File \u001b[0;32m/opt/anaconda3/lib/python3.12/site-packages/django/db/backends/utils.py:79\u001b[0m, in \u001b[0;36mCursorWrapper.execute\u001b[0;34m(self, sql, params)\u001b[0m\n\u001b[1;32m     78\u001b[0m \u001b[38;5;28;01mdef\u001b[39;00m \u001b[38;5;21mexecute\u001b[39m(\u001b[38;5;28mself\u001b[39m, sql, params\u001b[38;5;241m=\u001b[39m\u001b[38;5;28;01mNone\u001b[39;00m):\n\u001b[0;32m---> 79\u001b[0m     \u001b[38;5;28;01mreturn\u001b[39;00m \u001b[38;5;28mself\u001b[39m\u001b[38;5;241m.\u001b[39m_execute_with_wrappers(\n\u001b[1;32m     80\u001b[0m         sql, params, many\u001b[38;5;241m=\u001b[39m\u001b[38;5;28;01mFalse\u001b[39;00m, executor\u001b[38;5;241m=\u001b[39m\u001b[38;5;28mself\u001b[39m\u001b[38;5;241m.\u001b[39m_execute\n\u001b[1;32m     81\u001b[0m     )\n",
      "File \u001b[0;32m/opt/anaconda3/lib/python3.12/site-packages/django/db/backends/utils.py:92\u001b[0m, in \u001b[0;36mCursorWrapper._execute_with_wrappers\u001b[0;34m(self, sql, params, many, executor)\u001b[0m\n\u001b[1;32m     90\u001b[0m \u001b[38;5;28;01mfor\u001b[39;00m wrapper \u001b[38;5;129;01min\u001b[39;00m \u001b[38;5;28mreversed\u001b[39m(\u001b[38;5;28mself\u001b[39m\u001b[38;5;241m.\u001b[39mdb\u001b[38;5;241m.\u001b[39mexecute_wrappers):\n\u001b[1;32m     91\u001b[0m     executor \u001b[38;5;241m=\u001b[39m functools\u001b[38;5;241m.\u001b[39mpartial(wrapper, executor)\n\u001b[0;32m---> 92\u001b[0m \u001b[38;5;28;01mreturn\u001b[39;00m executor(sql, params, many, context)\n",
      "File \u001b[0;32m/opt/anaconda3/lib/python3.12/site-packages/django/db/backends/utils.py:100\u001b[0m, in \u001b[0;36mCursorWrapper._execute\u001b[0;34m(self, sql, params, *ignored_wrapper_args)\u001b[0m\n\u001b[1;32m     98\u001b[0m     warnings\u001b[38;5;241m.\u001b[39mwarn(\u001b[38;5;28mself\u001b[39m\u001b[38;5;241m.\u001b[39mAPPS_NOT_READY_WARNING_MSG, category\u001b[38;5;241m=\u001b[39m\u001b[38;5;167;01mRuntimeWarning\u001b[39;00m)\n\u001b[1;32m     99\u001b[0m \u001b[38;5;28mself\u001b[39m\u001b[38;5;241m.\u001b[39mdb\u001b[38;5;241m.\u001b[39mvalidate_no_broken_transaction()\n\u001b[0;32m--> 100\u001b[0m \u001b[38;5;28;01mwith\u001b[39;00m \u001b[38;5;28mself\u001b[39m\u001b[38;5;241m.\u001b[39mdb\u001b[38;5;241m.\u001b[39mwrap_database_errors:\n\u001b[1;32m    101\u001b[0m     \u001b[38;5;28;01mif\u001b[39;00m params \u001b[38;5;129;01mis\u001b[39;00m \u001b[38;5;28;01mNone\u001b[39;00m:\n\u001b[1;32m    102\u001b[0m         \u001b[38;5;66;03m# params default might be backend specific.\u001b[39;00m\n\u001b[1;32m    103\u001b[0m         \u001b[38;5;28;01mreturn\u001b[39;00m \u001b[38;5;28mself\u001b[39m\u001b[38;5;241m.\u001b[39mcursor\u001b[38;5;241m.\u001b[39mexecute(sql)\n",
      "File \u001b[0;32m/opt/anaconda3/lib/python3.12/site-packages/django/db/utils.py:91\u001b[0m, in \u001b[0;36mDatabaseErrorWrapper.__exit__\u001b[0;34m(self, exc_type, exc_value, traceback)\u001b[0m\n\u001b[1;32m     89\u001b[0m \u001b[38;5;28;01mif\u001b[39;00m dj_exc_type \u001b[38;5;129;01mnot\u001b[39;00m \u001b[38;5;129;01min\u001b[39;00m (DataError, IntegrityError):\n\u001b[1;32m     90\u001b[0m     \u001b[38;5;28mself\u001b[39m\u001b[38;5;241m.\u001b[39mwrapper\u001b[38;5;241m.\u001b[39merrors_occurred \u001b[38;5;241m=\u001b[39m \u001b[38;5;28;01mTrue\u001b[39;00m\n\u001b[0;32m---> 91\u001b[0m \u001b[38;5;28;01mraise\u001b[39;00m dj_exc_value\u001b[38;5;241m.\u001b[39mwith_traceback(traceback) \u001b[38;5;28;01mfrom\u001b[39;00m \u001b[38;5;21;01mexc_value\u001b[39;00m\n",
      "File \u001b[0;32m/opt/anaconda3/lib/python3.12/site-packages/django/db/backends/utils.py:105\u001b[0m, in \u001b[0;36mCursorWrapper._execute\u001b[0;34m(self, sql, params, *ignored_wrapper_args)\u001b[0m\n\u001b[1;32m    103\u001b[0m     \u001b[38;5;28;01mreturn\u001b[39;00m \u001b[38;5;28mself\u001b[39m\u001b[38;5;241m.\u001b[39mcursor\u001b[38;5;241m.\u001b[39mexecute(sql)\n\u001b[1;32m    104\u001b[0m \u001b[38;5;28;01melse\u001b[39;00m:\n\u001b[0;32m--> 105\u001b[0m     \u001b[38;5;28;01mreturn\u001b[39;00m \u001b[38;5;28mself\u001b[39m\u001b[38;5;241m.\u001b[39mcursor\u001b[38;5;241m.\u001b[39mexecute(sql, params)\n",
      "File \u001b[0;32m/opt/anaconda3/lib/python3.12/site-packages/psycopg/cursor.py:97\u001b[0m, in \u001b[0;36mCursor.execute\u001b[0;34m(self, query, params, prepare, binary)\u001b[0m\n\u001b[1;32m     93\u001b[0m         \u001b[38;5;28mself\u001b[39m\u001b[38;5;241m.\u001b[39m_conn\u001b[38;5;241m.\u001b[39mwait(\n\u001b[1;32m     94\u001b[0m             \u001b[38;5;28mself\u001b[39m\u001b[38;5;241m.\u001b[39m_execute_gen(query, params, prepare\u001b[38;5;241m=\u001b[39mprepare, binary\u001b[38;5;241m=\u001b[39mbinary)\n\u001b[1;32m     95\u001b[0m         )\n\u001b[1;32m     96\u001b[0m \u001b[38;5;28;01mexcept\u001b[39;00m e\u001b[38;5;241m.\u001b[39m_NO_TRACEBACK \u001b[38;5;28;01mas\u001b[39;00m ex:\n\u001b[0;32m---> 97\u001b[0m     \u001b[38;5;28;01mraise\u001b[39;00m ex\u001b[38;5;241m.\u001b[39mwith_traceback(\u001b[38;5;28;01mNone\u001b[39;00m)\n\u001b[1;32m     98\u001b[0m \u001b[38;5;28;01mreturn\u001b[39;00m \u001b[38;5;28mself\u001b[39m\n",
      "\u001b[0;31mIntegrityError\u001b[0m: duplicate key value violates unique constraint \"1_3_unique_company_time\"\nDETAIL:  Key (company_id, \"time\")=(9, 2023-01-09 09:00:00+00) already exists."
     ]
    }
   ],
   "source": [
    "StockQuote.objects.create(company=company_obj, **new_stock_data)"
   ]
  }
 ],
 "metadata": {
  "kernelspec": {
   "display_name": "base",
   "language": "python",
   "name": "python3"
  },
  "language_info": {
   "codemirror_mode": {
    "name": "ipython",
    "version": 3
   },
   "file_extension": ".py",
   "mimetype": "text/x-python",
   "name": "python",
   "nbconvert_exporter": "python",
   "pygments_lexer": "ipython3",
   "version": "3.12.2"
  }
 },
 "nbformat": 4,
 "nbformat_minor": 2
}
