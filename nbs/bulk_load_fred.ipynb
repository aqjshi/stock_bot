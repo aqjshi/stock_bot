{
 "cells": [
  {
   "cell_type": "code",
   "execution_count": 1,
   "id": "e85ed483-d2ef-4920-a1b5-51dd0eddf4a6",
   "metadata": {},
   "outputs": [
    {
     "name": "stdout",
     "output_type": "stream",
     "text": [
      "0pEnqPfhRk7bYu5LSa7ppMuKfqr21kck\n"
     ]
    }
   ],
   "source": [
    "import setup\n",
    "setup.init_django()"
   ]
  },
  {
   "cell_type": "code",
   "execution_count": 2,
   "id": "da110c89-fc4d-4751-840b-2a95891c50bf",
   "metadata": {},
   "outputs": [],
   "source": [
    "import helpers.clients as helper_clients"
   ]
  },
  {
   "cell_type": "code",
   "execution_count": 3,
   "id": "22405efd",
   "metadata": {},
   "outputs": [
    {
     "name": "stdout",
     "output_type": "stream",
     "text": [
      "GNPCA Data (Transformed): {'1929-01-01': 1202.659, '1930-01-01': 1100.67, '1931-01-01': 1029.038, '1932-01-01': 895.802, '1933-01-01': 883.847, '1934-01-01': 978.188, '1935-01-01': 1065.716, '1936-01-01': 1201.443, '1937-01-01': 1264.393, '1938-01-01': 1222.966, '1939-01-01': 1320.924, '1940-01-01': 1435.656, '1941-01-01': 1690.844, '1942-01-01': 2008.853, '1943-01-01': 2349.125, '1944-01-01': 2535.744, '1945-01-01': 2509.982, '1946-01-01': 2221.51, '1947-01-01': 2199.313, '1948-01-01': 2291.804, '1949-01-01': 2277.883, '1950-01-01': 2476.097, '1951-01-01': 2677.414, '1952-01-01': 2786.602, '1953-01-01': 2915.598, '1954-01-01': 2900.038, '1955-01-01': 3107.796, '1956-01-01': 3175.622, '1957-01-01': 3243.263, '1958-01-01': 3215.954, '1959-01-01': 3438.007, '1960-01-01': 3527.996, '1961-01-01': 3620.292, '1962-01-01': 3843.844, '1963-01-01': 4012.113, '1964-01-01': 4243.962, '1965-01-01': 4519.102, '1966-01-01': 4812.8, '1967-01-01': 4944.919, '1968-01-01': 5188.802, '1969-01-01': 5348.589, '1970-01-01': 5358.035, '1971-01-01': 5537.202, '1972-01-01': 5829.057, '1973-01-01': 6170.549, '1974-01-01': 6145.506, '1975-01-01': 6118.231, '1976-01-01': 6454.905, '1977-01-01': 6758.055, '1978-01-01': 7127.776, '1979-01-01': 7375.014, '1980-01-01': 7355.39, '1981-01-01': 7528.705, '1982-01-01': 7397.849, '1983-01-01': 7730.794, '1984-01-01': 8280.163, '1985-01-01': 8598.506, '1986-01-01': 8876.436, '1987-01-01': 9179.633, '1988-01-01': 9569.566, '1989-01-01': 9920.542, '1990-01-01': 10120.114, '1991-01-01': 10100.371, '1992-01-01': 10452.604, '1993-01-01': 10738.246, '1994-01-01': 11155.769, '1995-01-01': 11459.835, '1996-01-01': 11893.706, '1997-01-01': 12408.947, '1998-01-01': 12954.457, '1999-01-01': 13583.582, '2000-01-01': 14144.962, '2001-01-01': 14294.624, '2002-01-01': 14529.585, '2003-01-01': 14949.293, '2004-01-01': 15542.707, '2005-01-01': 16075.089, '2006-01-01': 16483.539, '2007-01-01': 16867.78, '2008-01-01': 16940.097, '2009-01-01': 16514.062, '2010-01-01': 17013.917, '2011-01-01': 17306.204, '2012-01-01': 17686.281, '2013-01-01': 18049.236, '2014-01-01': 18499.72, '2015-01-01': 19021.225, '2016-01-01': 19372.908, '2017-01-01': 19905.052, '2018-01-01': 20490.925, '2019-01-01': 20977.326, '2020-01-01': 20451.945, '2021-01-01': 21590.414, '2022-01-01': 21992.687, '2023-01-01': 22528.503}\n"
     ]
    }
   ],
   "source": [
    "from datetime import datetime, timedelta\n",
    "from decouple import config\n",
    "\n",
    "# Configuration\n",
    "company_name = \"NVDA\"\n",
    "company_ticker = \"NVDA\"\n",
    "multiplier = 1\n",
    "from_date = \"2025-01-01\"\n",
    "to_date = \"2025-01-20\"\n",
    "batch_size = 1000  # Batch size for database inserts\n",
    "date_format = \"%Y-%m-%d\"\n",
    "\n",
    "# Initialize API client\n",
    "client = helper_clients.PolygonAPIClient(\n",
    "    ticker=company_ticker,\n",
    "    multiplier=multiplier,\n",
    "    from_date=from_date,\n",
    "    to_date=to_date\n",
    ")\n",
    "\n",
    "\n",
    "fred_api_key=config(\"FRED_API_KEY\")\n",
    "fred_client = helper_clients.FREDAPIClient(\n",
    "    series_id=\"GNPCA\",\n",
    "    api_key=fred_api_key\n",
    ")\n",
    "\n",
    "\n",
    "gnpca_data = fred_client.fetch_fred_data(\"GNPCA\", fred_api_key, \"2024-01-04\", \"2025-01-20\")\n",
    "print(\"GNPCA Data (Transformed):\", gnpca_data)\n",
    "\n",
    "\n",
    "# # Fetch datasets in batches\n",
    "# print(\"Fetching datasets in batches...\")\n",
    "# stock_data = client.fetch_stock_data_in_batches(from_date, to_date)\n",
    "# sma_data = client.fetch_sma_data_in_batches(from_date, to_date)\n",
    "# ema_data = client.fetch_ema_data_in_batches(from_date, to_date)\n",
    "# macd_data = client.fetch_macd_data_in_batches(from_date, to_date)\n",
    "# rsi_data = client.fetch_rsi_data_in_batches(from_date, to_date)\n",
    "\n",
    "# print(f\"Stock Data Length: {len(stock_data)}\")\n",
    "# print(f\"SMA Data Length: {len(sma_data)}\")\n",
    "# print(f\"EMA Data Length: {len(ema_data)}\")\n",
    "# print(f\"MACD Data Length: {len(macd_data)}\")\n",
    "# print(f\"RSI Data Length: {len(rsi_data)}\")\n",
    "\n",
    "\n",
    "# print(f\"Stock Data Length: {len(stock_data)}\")\n",
    "# print(f\"SMA Data Length: {len(sma_data)}\")\n",
    "# print(f\"EMA Data Length: {len(ema_data)}\")\n",
    "# print(f\"MACD Data Length: {len(macd_data)}\")\n",
    "# print(f\"RSI Data Length: {len(rsi_data)}\")\n",
    "\n",
    "# print(sma_data[0])\n",
    "\n",
    "\n",
    "    "
   ]
  }
 ],
 "metadata": {
  "kernelspec": {
   "display_name": "base",
   "language": "python",
   "name": "python3"
  },
  "language_info": {
   "codemirror_mode": {
    "name": "ipython",
    "version": 3
   },
   "file_extension": ".py",
   "mimetype": "text/x-python",
   "name": "python",
   "nbconvert_exporter": "python",
   "pygments_lexer": "ipython3",
   "version": "3.12.2"
  }
 },
 "nbformat": 4,
 "nbformat_minor": 5
}
